{
 "cells": [
  {
   "cell_type": "markdown",
   "metadata": {},
   "source": [
    "# HH.ru parsing with Api"
   ]
  },
  {
   "cell_type": "code",
   "execution_count": 16,
   "metadata": {},
   "outputs": [],
   "source": [
    "import requests\n",
    "import pandas as pd\n",
    "import xlsxwriter\n",
    "import re\n",
    "import openpyxl"
   ]
  },
  {
   "cell_type": "code",
   "execution_count": 7,
   "metadata": {},
   "outputs": [],
   "source": [
    "URL = 'https://api.hh.ru/'\n",
    "FILE = 'info.csv'\n",
    "HEADERS = {'user-agent': 'Mozilla/5.0 (Windows NT 10.0; Win64; x64)'\n",
    "                         ' AppleWebKit/537.36 (KHTML, like Gecko) Chrome/83.0.4103.116 Safari/537.36'}\n",
    "CMD = 'vacancies'\n",
    "REQUEST = 'исследователь математика'"
   ]
  },
  {
   "cell_type": "code",
   "execution_count": 8,
   "metadata": {},
   "outputs": [],
   "source": [
    "def authorization(url):\n",
    "    r = requests.get(url, headers=HEADERS)\n",
    "    return r.status_code"
   ]
  },
  {
   "cell_type": "code",
   "execution_count": 9,
   "metadata": {},
   "outputs": [],
   "source": [
    "def get_vacancy(cmd_url, parameters=None):\n",
    "    cmd = URL + cmd_url\n",
    "    r = requests.get(cmd, headers=HEADERS, params=parameters)\n",
    "    return r.json()"
   ]
  },
  {
   "cell_type": "code",
   "execution_count": 10,
   "metadata": {},
   "outputs": [],
   "source": [
    "def vacancy_info(vacancy_number):\n",
    "    url = f'{URL}vacancies/{vacancy_number}'\n",
    "    r = requests.get(url, headers=HEADERS)\n",
    "    info = r.json()\n",
    "    try:\n",
    "        experience = info['experience']['name']\n",
    "        skills = info['key_skills']\n",
    "        key_skills = []\n",
    "        for skill in skills:\n",
    "            key_skills.append(skill['name'])\n",
    "    except:\n",
    "        pass\n",
    "    return experience, key_skills"
   ]
  },
  {
   "cell_type": "code",
   "execution_count": 11,
   "metadata": {},
   "outputs": [],
   "source": [
    "def collect_vacancies(json_text):\n",
    "    list_of_vacancies = list()\n",
    "    list_of_dicts = json_text['items']\n",
    "    for dict in list_of_dicts:\n",
    "        id = dict['id']\n",
    "        link = dict['alternate_url']\n",
    "        employee = dict['name']\n",
    "        employer = dict['employer']['name']\n",
    "        city = dict['area']['name']\n",
    "        experience, key_skills = vacancy_info(id)\n",
    "        requirements = dict['snippet']['requirement']\n",
    "        responsibilities = dict['snippet']['responsibility']\n",
    "        if responsibilities is not None:\n",
    "            responsibilities = re.sub('<.*?highlighttext>', '', responsibilities)\n",
    "        if requirements is not None:\n",
    "            requirements = re.sub('<.*?highlighttext>', '', requirements)\n",
    "        if len(key_skills) == 0:\n",
    "            key_skills = None\n",
    "        else:\n",
    "            key_skills = ', '.join(key_skills)\n",
    "        vacancy = {'link': link, 'employee': employee,\n",
    "                   'employer': employer, 'city': city,\n",
    "                   'experience': experience, 'requirements': requirements,\n",
    "                   'responsibilities': responsibilities, 'key_skills': key_skills}\n",
    "        list_of_vacancies.append(vacancy)\n",
    "    return list_of_vacancies"
   ]
  },
  {
   "cell_type": "code",
   "execution_count": 12,
   "metadata": {},
   "outputs": [],
   "source": [
    "def process_vacancies(key_words):\n",
    "    full_list = []\n",
    "    for i in range(19):\n",
    "        print(f'Processing page {i}')\n",
    "        params = {'text': key_words,\n",
    "                  'area': 113, 'page': i, 'per_page': 100}\n",
    "        text = get_vacancy(CMD, params)\n",
    "        try:\n",
    "            full_list += collect_vacancies(text)\n",
    "        except:\n",
    "            print('====Nothing found====')\n",
    "        i += 1\n",
    "    print(f'Number of vacancies: {len(full_list)}')\n",
    "    df = pd.DataFrame(full_list)\n",
    "    df.columns = ['Ссылка', 'Кого ищут', 'Кто ищет',\n",
    "                  'Город', 'Опыт', 'Требования', 'Обязанности', 'Ключевые навыки']\n",
    "    return df"
   ]
  },
  {
   "cell_type": "code",
   "execution_count": 13,
   "metadata": {},
   "outputs": [],
   "source": [
    "def pandas_export(data_frame, sheet_name):\n",
    "    writer = pd.ExcelWriter('vacancy.xlsx', engine='xlsxwriter')\n",
    "    data_frame.to_excel(writer, sheet_name=sheet_name, index=False)\n",
    "    workbook = writer.book\n",
    "    worksheet = writer.sheets[sheet_name]\n",
    "    format1 = workbook.add_format({'num_format': '#,##0.00'})\n",
    "    format2 = workbook.add_format({'num_format': '0%'})\n",
    "    worksheet.set_column('A:H', 30, format1)\n",
    "    worksheet.set_column('C:C', 30, format2)\n",
    "    writer.save()"
   ]
  },
  {
   "cell_type": "code",
   "execution_count": 14,
   "metadata": {},
   "outputs": [],
   "source": [
    "def pandas_add(data, sheet_name):\n",
    "    path = 'vacancy.xlsx'\n",
    "    book = openpyxl.load_workbook(path)\n",
    "    writer = pd.ExcelWriter(path, engine='openpyxl')\n",
    "    writer.book = book\n",
    "    data.to_excel(writer, sheet_name=sheet_name, index=False)\n",
    "    writer.save()\n",
    "    writer.close()"
   ]
  },
  {
   "cell_type": "code",
   "execution_count": 15,
   "metadata": {
    "collapsed": true
   },
   "outputs": [
    {
     "name": "stdout",
     "output_type": "stream",
     "text": [
      "====Connection set====\n",
      "Processing page 0\n",
      "Processing page 1\n",
      "Processing page 2\n",
      "Processing page 3\n",
      "Processing page 4\n",
      "Processing page 5\n",
      "Processing page 6\n",
      "Processing page 7\n",
      "Processing page 8\n",
      "Processing page 9\n",
      "Processing page 10\n",
      "Processing page 11\n",
      "Processing page 12\n",
      "Processing page 13\n",
      "Processing page 14\n",
      "Processing page 15\n",
      "Processing page 16\n",
      "Processing page 17\n",
      "Processing page 18\n",
      "Number of vacancies: 104\n"
     ]
    },
    {
     "ename": "KeyboardInterrupt",
     "evalue": "Interrupted by user",
     "output_type": "error",
     "traceback": [
      "\u001b[1;31m---------------------------------------------------------------------------\u001b[0m",
      "\u001b[1;31mKeyboardInterrupt\u001b[0m                         Traceback (most recent call last)",
      "\u001b[1;32m<ipython-input-15-c5ac451c8b1a>\u001b[0m in \u001b[0;36m<module>\u001b[1;34m\u001b[0m\n\u001b[0;32m      5\u001b[0m     \u001b[0magain\u001b[0m \u001b[1;33m=\u001b[0m \u001b[1;33m-\u001b[0m\u001b[1;36m1\u001b[0m\u001b[1;33m\u001b[0m\u001b[1;33m\u001b[0m\u001b[0m\n\u001b[0;32m      6\u001b[0m     \u001b[1;32mwhile\u001b[0m \u001b[0magain\u001b[0m \u001b[1;33m!=\u001b[0m \u001b[1;36m0\u001b[0m\u001b[1;33m:\u001b[0m\u001b[1;33m\u001b[0m\u001b[1;33m\u001b[0m\u001b[0m\n\u001b[1;32m----> 7\u001b[1;33m         \u001b[0mREQUEST\u001b[0m \u001b[1;33m=\u001b[0m \u001b[0minput\u001b[0m\u001b[1;33m(\u001b[0m\u001b[1;34m'New request: '\u001b[0m\u001b[1;33m)\u001b[0m\u001b[1;33m\u001b[0m\u001b[1;33m\u001b[0m\u001b[0m\n\u001b[0m\u001b[0;32m      8\u001b[0m         \u001b[0mdf\u001b[0m \u001b[1;33m=\u001b[0m \u001b[0mprocess_vacancies\u001b[0m\u001b[1;33m(\u001b[0m\u001b[0mREQUEST\u001b[0m\u001b[1;33m)\u001b[0m\u001b[1;33m\u001b[0m\u001b[1;33m\u001b[0m\u001b[0m\n\u001b[0;32m      9\u001b[0m         \u001b[0mname_of_sheet\u001b[0m \u001b[1;33m=\u001b[0m \u001b[0minput\u001b[0m\u001b[1;33m(\u001b[0m\u001b[1;34m'Sheet name: '\u001b[0m\u001b[1;33m)\u001b[0m\u001b[1;33m\u001b[0m\u001b[1;33m\u001b[0m\u001b[0m\n",
      "\u001b[1;32mc:\\users\\марина\\appdata\\local\\programs\\python\\python38-32\\lib\\site-packages\\ipykernel\\kernelbase.py\u001b[0m in \u001b[0;36mraw_input\u001b[1;34m(self, prompt)\u001b[0m\n\u001b[0;32m    858\u001b[0m                 \u001b[1;34m\"raw_input was called, but this frontend does not support input requests.\"\u001b[0m\u001b[1;33m\u001b[0m\u001b[1;33m\u001b[0m\u001b[0m\n\u001b[0;32m    859\u001b[0m             )\n\u001b[1;32m--> 860\u001b[1;33m         return self._input_request(str(prompt),\n\u001b[0m\u001b[0;32m    861\u001b[0m             \u001b[0mself\u001b[0m\u001b[1;33m.\u001b[0m\u001b[0m_parent_ident\u001b[0m\u001b[1;33m,\u001b[0m\u001b[1;33m\u001b[0m\u001b[1;33m\u001b[0m\u001b[0m\n\u001b[0;32m    862\u001b[0m             \u001b[0mself\u001b[0m\u001b[1;33m.\u001b[0m\u001b[0m_parent_header\u001b[0m\u001b[1;33m,\u001b[0m\u001b[1;33m\u001b[0m\u001b[1;33m\u001b[0m\u001b[0m\n",
      "\u001b[1;32mc:\\users\\марина\\appdata\\local\\programs\\python\\python38-32\\lib\\site-packages\\ipykernel\\kernelbase.py\u001b[0m in \u001b[0;36m_input_request\u001b[1;34m(self, prompt, ident, parent, password)\u001b[0m\n\u001b[0;32m    902\u001b[0m             \u001b[1;32mexcept\u001b[0m \u001b[0mKeyboardInterrupt\u001b[0m\u001b[1;33m:\u001b[0m\u001b[1;33m\u001b[0m\u001b[1;33m\u001b[0m\u001b[0m\n\u001b[0;32m    903\u001b[0m                 \u001b[1;31m# re-raise KeyboardInterrupt, to truncate traceback\u001b[0m\u001b[1;33m\u001b[0m\u001b[1;33m\u001b[0m\u001b[1;33m\u001b[0m\u001b[0m\n\u001b[1;32m--> 904\u001b[1;33m                 \u001b[1;32mraise\u001b[0m \u001b[0mKeyboardInterrupt\u001b[0m\u001b[1;33m(\u001b[0m\u001b[1;34m\"Interrupted by user\"\u001b[0m\u001b[1;33m)\u001b[0m \u001b[1;32mfrom\u001b[0m \u001b[1;32mNone\u001b[0m\u001b[1;33m\u001b[0m\u001b[1;33m\u001b[0m\u001b[0m\n\u001b[0m\u001b[0;32m    905\u001b[0m             \u001b[1;32mexcept\u001b[0m \u001b[0mException\u001b[0m \u001b[1;32mas\u001b[0m \u001b[0me\u001b[0m\u001b[1;33m:\u001b[0m\u001b[1;33m\u001b[0m\u001b[1;33m\u001b[0m\u001b[0m\n\u001b[0;32m    906\u001b[0m                 \u001b[0mself\u001b[0m\u001b[1;33m.\u001b[0m\u001b[0mlog\u001b[0m\u001b[1;33m.\u001b[0m\u001b[0mwarning\u001b[0m\u001b[1;33m(\u001b[0m\u001b[1;34m\"Invalid Message:\"\u001b[0m\u001b[1;33m,\u001b[0m \u001b[0mexc_info\u001b[0m\u001b[1;33m=\u001b[0m\u001b[1;32mTrue\u001b[0m\u001b[1;33m)\u001b[0m\u001b[1;33m\u001b[0m\u001b[1;33m\u001b[0m\u001b[0m\n",
      "\u001b[1;31mKeyboardInterrupt\u001b[0m: Interrupted by user"
     ]
    }
   ],
   "source": [
    "if authorization(URL) == 200:\n",
    "    print('====Connection set====')\n",
    "    df = process_vacancies(REQUEST)\n",
    "    pandas_export(df, REQUEST)\n",
    "    again = -1\n",
    "    while again != 0:\n",
    "        REQUEST = input('New request: ')\n",
    "        df = process_vacancies(REQUEST)\n",
    "        name_of_sheet = input('Sheet name: ')\n",
    "        pandas_add(df, name_of_sheet)\n",
    "        again = int(input('0 to stop:'))\n",
    "    print('====Finished====')\n",
    "else:\n",
    "    pass\n",
    "    print('====Error====')"
   ]
  }
 ],
 "metadata": {
  "kernelspec": {
   "display_name": "Python 3",
   "language": "python",
   "name": "python3"
  },
  "language_info": {
   "codemirror_mode": {
    "name": "ipython",
    "version": 3
   },
   "file_extension": ".py",
   "mimetype": "text/x-python",
   "name": "python",
   "nbconvert_exporter": "python",
   "pygments_lexer": "ipython3",
   "version": "3.8.2"
  }
 },
 "nbformat": 4,
 "nbformat_minor": 4
}
